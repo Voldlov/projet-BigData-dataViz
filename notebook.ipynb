{
 "cells": [
  {
   "cell_type": "code",
   "execution_count": 1,
   "metadata": {},
   "outputs": [
    {
     "name": "stdout",
     "output_type": "stream",
     "text": [
      "Collecting pykafka\n",
      "  Downloading pykafka-2.8.0.tar.gz (141 kB)\n",
      "\u001b[2K     \u001b[90m━━━━━━━━━━━━━━━━━━━━━━━━━━━━━━━━━━━━━━━\u001b[0m \u001b[32m141.6/141.6 kB\u001b[0m \u001b[31m3.5 MB/s\u001b[0m eta \u001b[36m0:00:00\u001b[0ma \u001b[36m0:00:01\u001b[0m\n",
      "\u001b[?25h  Preparing metadata (setup.py) ... \u001b[?25ldone\n",
      "\u001b[?25hCollecting kazoo==2.5.0\n",
      "  Downloading kazoo-2.5.0-py2.py3-none-any.whl (129 kB)\n",
      "\u001b[2K     \u001b[90m━━━━━━━━━━━━━━━━━━━━━━━━━━━━━━━━━━━━━━━\u001b[0m \u001b[32m129.4/129.4 kB\u001b[0m \u001b[31m4.8 MB/s\u001b[0m eta \u001b[36m0:00:00\u001b[0m\n",
      "\u001b[?25hRequirement already satisfied: six>=1.5 in /usr/local/lib/python3.9/dist-packages (from pykafka) (1.16.0)\n",
      "Collecting tabulate\n",
      "  Downloading tabulate-0.9.0-py3-none-any.whl (35 kB)\n",
      "Building wheels for collected packages: pykafka\n",
      "  Building wheel for pykafka (setup.py) ... \u001b[?25ldone\n",
      "\u001b[?25h  Created wheel for pykafka: filename=pykafka-2.8.0-py2.py3-none-any.whl size=171512 sha256=8e8a76c37e4be2cb60c1b866fd3facd333f201c26ec8c3b577b4332548e6f5d7\n",
      "  Stored in directory: /root/.cache/pip/wheels/31/1d/a3/a0a0019c9ba65ab2509b7075864c3fe660208b199dd707a304\n",
      "Successfully built pykafka\n",
      "Installing collected packages: tabulate, kazoo, pykafka\n",
      "Successfully installed kazoo-2.5.0 pykafka-2.8.0 tabulate-0.9.0\n",
      "\u001b[33mWARNING: Running pip as the 'root' user can result in broken permissions and conflicting behaviour with the system package manager. It is recommended to use a virtual environment instead: https://pip.pypa.io/warnings/venv\u001b[0m\u001b[33m\n",
      "\u001b[0m"
     ]
    }
   ],
   "source": [
    "!pip install pykafka"
   ]
  },
  {
   "cell_type": "code",
   "execution_count": 6,
   "metadata": {},
   "outputs": [
    {
     "name": "stdout",
     "output_type": "stream",
     "text": [
      "--packages org.apache.spark:spark-sql-kafka-0-10_2.12:3.0.0 pyspark-shell\n"
     ]
    }
   ],
   "source": [
    "from pyspark.sql import SparkSession\n",
    "import os\n",
    "\n",
    "#sans se connecter au cluster\n",
    "#spark = SparkSession.builder.getOrCreate()\n",
    "\n",
    "os.environ['PYSPARK_SUBMIT_ARGS'] = '--packages org.apache.spark:spark-sql-kafka-0-10_2.12:3.0.0 pyspark-shell'\n",
    "\n",
    "spark = SparkSession.\\\n",
    "        builder.\\\n",
    "        appName(\"pyspark-notebook\").\\\n",
    "        master(\"spark://spark-master:7077\").\\\n",
    "        config(\"spark.executor.memory\", \"2g\").\\\n",
    "        getOrCreate()\n",
    "\n",
    "print(os.environ['PYSPARK_SUBMIT_ARGS'])"
   ]
  },
  {
   "cell_type": "code",
   "execution_count": 9,
   "metadata": {},
   "outputs": [
    {
     "data": {
      "text/plain": [
       "DataFrame[key: string, value: string]"
      ]
     },
     "execution_count": 9,
     "metadata": {},
     "output_type": "execute_result"
    }
   ],
   "source": [
    "df = spark \\\n",
    "  .readStream \\\n",
    "  .format(\"kafka\") \\\n",
    "  .option(\"kafka.bootstrap.servers\", \"localhost:9092\") \\\n",
    "  .option(\"subscribe\", \"quickstart\") \\\n",
    "  .load()\n",
    "df.selectExpr(\"CAST(key AS STRING)\", \"CAST(value AS STRING)\")"
   ]
  },
  {
   "cell_type": "code",
   "execution_count": 47,
   "metadata": {},
   "outputs": [
    {
     "ename": "ModuleNotFoundError",
     "evalue": "No module named 'kafka'",
     "output_type": "error",
     "traceback": [
      "\u001b[0;31m---------------------------------------------------------------------------\u001b[0m",
      "\u001b[0;31mModuleNotFoundError\u001b[0m                       Traceback (most recent call last)",
      "Cell \u001b[0;32mIn [47], line 1\u001b[0m\n\u001b[0;32m----> 1\u001b[0m \u001b[38;5;28;01mfrom\u001b[39;00m \u001b[38;5;21;01mkafka\u001b[39;00m \u001b[38;5;28;01mimport\u001b[39;00m KafkaProducer\n",
      "\u001b[0;31mModuleNotFoundError\u001b[0m: No module named 'kafka'"
     ]
    }
   ],
   "source": []
  },
  {
   "cell_type": "code",
   "execution_count": 49,
   "metadata": {},
   "outputs": [
    {
     "name": "stderr",
     "output_type": "stream",
     "text": [
      "10368.31s - pydevd: Sending message related to process being replaced timed-out after 5 seconds\n"
     ]
    },
    {
     "name": "stdout",
     "output_type": "stream",
     "text": [
      "Collecting kafka-python\n",
      "  Downloading kafka_python-2.0.2-py2.py3-none-any.whl (246 kB)\n",
      "\u001b[2K     \u001b[90m━━━━━━━━━━━━━━━━━━━━━━━━━━━━━━━━━━━━━━\u001b[0m \u001b[32m246.5/246.5 kB\u001b[0m \u001b[31m12.0 MB/s\u001b[0m eta \u001b[36m0:00:00\u001b[0m\n",
      "\u001b[?25hInstalling collected packages: kafka-python\n",
      "Successfully installed kafka-python-2.0.2\n",
      "\u001b[33mWARNING: Running pip as the 'root' user can result in broken permissions and conflicting behaviour with the system package manager. It is recommended to use a virtual environment instead: https://pip.pypa.io/warnings/venv\u001b[0m\u001b[33m\n",
      "\u001b[0mNote: you may need to restart the kernel to use updated packages.\n"
     ]
    }
   ],
   "source": []
  },
  {
   "cell_type": "code",
   "execution_count": 84,
   "metadata": {},
   "outputs": [
    {
     "name": "stdout",
     "output_type": "stream",
     "text": [
      "{b'quickstart': None, b'test_tweet': <weakref at 0x7f1735202cc0; to 'Topic' at 0x7f173529d880>}\n"
     ]
    },
    {
     "name": "stderr",
     "output_type": "stream",
     "text": [
      "Stream connection closed by Twitter\n"
     ]
    },
    {
     "name": "stdout",
     "output_type": "stream",
     "text": [
      "RT @GoshFinder: 🔥BIG WL GIVEAWAY🔥\n",
      "\n",
      "🎁50x WL for @Chibverse\n",
      "🎁10x WL for @NamiLandGame\n",
      "🎁5x WL for @Aptenelabs\n",
      "🎁3x WL for @Shi_Ko_Ku_\n",
      "\n",
      "👇To ente…\n",
      "RT @MoonXBT_Global: 🌈🌈MoonXBT #HappyFriday, Be The Luckiest Member Campaign🌈🌈\n",
      "\n",
      "🍻Cheers to 80 USDT Happy Friday #giveaway💃\n",
      "\n",
      "Rules:\n",
      "1. Follow…\n",
      "@rektcapital This looks like what the #BTC chart should do.\n",
      "\n",
      "I stake my $BAND bag tho, not selling.\n",
      "RT @Maxi__1981: I ❤️ @tothemoon_net!!!\n",
      "\n",
      "#NewNFTProfilePic\n",
      "\n",
      "$NEO #NEO #NEO3 #NeoN3 #GAS #ToTheMoon #NFTCollectibles #BlockchainGaming #GameF…\n",
      "RT @MoonXBT_Global: 🌈🌈MoonXBT #HappyFriday, Be The Luckiest Member Campaign🌈🌈\n",
      "\n",
      "🍻Cheers to 80 USDT Happy Friday #giveaway💃\n",
      "\n",
      "Rules:\n",
      "1. Follow…\n"
     ]
    }
   ],
   "source": [
    "from dotenv import load_dotenv\n",
    "from kafka import KafkaProducer\n",
    "from kafka.errors import KafkaError\n",
    "import tweepy\n",
    "import os\n",
    "\n",
    "from pykafka import KafkaClient\n",
    "\n",
    "\n",
    "print(client.topics)\n",
    "load_dotenv()\n",
    "BEARER_TOKEN = os.getenv(\"BEARER_TOKEN\")\n",
    "producer = KafkaProducer(bootstrap_servers='broker:29092')\n",
    "\n",
    "class TweetListener(tweepy.StreamingClient):\n",
    "    limit = 5\n",
    "    tweets = []\n",
    "    \n",
    "    def on_tweet(self, data):\n",
    "        print(data.text)\n",
    "        producer.send('test_tweet', data.text.encode(encoding='UTF-8'))\n",
    "        self.tweets.append(data)\n",
    "        \n",
    "        if len(self.tweets) >= self.limit:\n",
    "            self.disconnect()\n",
    "\n",
    "stream_tweet = TweetListener(BEARER_TOKEN)\n",
    "if stream_tweet.get_rules()[0]:\n",
    "    for rule in stream_tweet.get_rules()[0]:\n",
    "        stream_tweet.delete_rules(rule.id)\n",
    "\n",
    "# stream by keywords\n",
    "keywords ='#BTC'\n",
    "\n",
    "stream_tweet.add_rules(tweepy.StreamRule(keywords))\n",
    "stream_tweet.filter()\n",
    "\n"
   ]
  },
  {
   "cell_type": "code",
   "execution_count": 38,
   "metadata": {},
   "outputs": [
    {
     "data": {
      "text/plain": [
       "Response(data=[StreamRule(value='#BTC', tag=None, id='1588490168092196864')], includes={}, errors=[], meta={'sent': '2022-11-04T11:18:17.891Z', 'result_count': 1})"
      ]
     },
     "execution_count": 38,
     "metadata": {},
     "output_type": "execute_result"
    }
   ],
   "source": [
    "stream_tweet.get_rules()"
   ]
  },
  {
   "cell_type": "code",
   "execution_count": null,
   "metadata": {},
   "outputs": [],
   "source": []
  }
 ],
 "metadata": {
  "kernelspec": {
   "display_name": "Python 3 (ipykernel)",
   "language": "python",
   "name": "python3"
  },
  "language_info": {
   "codemirror_mode": {
    "name": "ipython",
    "version": 3
   },
   "file_extension": ".py",
   "mimetype": "text/x-python",
   "name": "python",
   "nbconvert_exporter": "python",
   "pygments_lexer": "ipython3",
   "version": "3.9.2"
  }
 },
 "nbformat": 4,
 "nbformat_minor": 4
}
